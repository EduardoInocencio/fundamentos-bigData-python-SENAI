{
 "cells": [
  {
   "cell_type": "markdown",
   "metadata": {},
   "source": [
    "### Palavras reservadas"
   ]
  },
  {
   "cell_type": "code",
   "execution_count": 3,
   "metadata": {},
   "outputs": [
    {
     "name": "stdout",
     "output_type": "stream",
     "text": [
      "['False', 'None', 'True', 'and', 'as', 'assert', 'async', 'await', 'break', 'class', 'continue', 'def', 'del', 'elif', 'else', 'except', 'finally', 'for', 'from', 'global', 'if', 'import', 'in', 'is', 'lambda', 'nonlocal', 'not', 'or', 'pass', 'raise', 'return', 'try', 'while', 'with', 'yield']\n"
     ]
    }
   ],
   "source": [
    "import keyword\n",
    "print(keyword.kwlist)"
   ]
  },
  {
   "cell_type": "markdown",
   "metadata": {},
   "source": [
    "### Exercício 02\n",
    "Crie um programa para receber dois valores e em seguida, exiba o valor\n",
    "da diferença entre eles."
   ]
  },
  {
   "cell_type": "code",
   "execution_count": 6,
   "metadata": {},
   "outputs": [
    {
     "name": "stdout",
     "output_type": "stream",
     "text": [
      "O resultado da subtração é -11.\n"
     ]
    }
   ],
   "source": [
    "num1 = 25\n",
    "num2 = 36\n",
    "\n",
    "diferenca = num1 - num2\n",
    "\n",
    "# O comando print apresenta resultados no console\n",
    "print(f'O resultado da subtração é {diferenca}.')"
   ]
  },
  {
   "cell_type": "markdown",
   "metadata": {},
   "source": [
    "### Exercício 03\n",
    "Crie um programa para receber dois valores e em seguida, exiba o\n",
    "produto entre eles."
   ]
  },
  {
   "cell_type": "code",
   "execution_count": 8,
   "metadata": {},
   "outputs": [
    {
     "name": "stdout",
     "output_type": "stream",
     "text": [
      "<class 'str'>\n",
      "<class 'str'>\n",
      "<class 'float'>\n",
      "<class 'float'>\n"
     ]
    }
   ],
   "source": [
    "# Inserindo dados de entrada com o comando INPUT\n",
    "num1 = input('Digite o primeiro valor.')\n",
    "num2 = input('Digite o segundo valor.')\n",
    "\n",
    "# Verificando o tipo de dado\n",
    "print(type(num1))\n",
    "print(type(num2))\n",
    "\n",
    "# Convertendo os valores em DECIMAIS\n",
    "num1 = float(num1)\n",
    "num2 = float(num2)\n",
    "\n",
    "# Verificando o tipo de dado\n",
    "print(type(num1))\n",
    "print(type(num2))\n",
    "\n",
    "produto = num1 * num2\n",
    "\n",
    "print('O resultado é:', produto)\n"
   ]
  },
  {
   "cell_type": "markdown",
   "metadata": {},
   "source": [
    "### Exercício 04\n",
    "Crie um programa para receber dois valores e em seguida, exiba o\n",
    "quociente entre eles."
   ]
  },
  {
   "cell_type": "code",
   "execution_count": null,
   "metadata": {},
   "outputs": [],
   "source": []
  },
  {
   "cell_type": "markdown",
   "metadata": {},
   "source": [
    "### Exercício 05\n",
    "Crie um programa para receber dois valores e em seguida, exiba o resto\n",
    "da divisão entre eles."
   ]
  },
  {
   "cell_type": "code",
   "execution_count": null,
   "metadata": {},
   "outputs": [],
   "source": []
  },
  {
   "cell_type": "markdown",
   "metadata": {},
   "source": [
    "### Exercício 06\n",
    "Crie um programa para receber um número e em seguida, exiba o\n",
    "quadrado dele."
   ]
  },
  {
   "cell_type": "code",
   "execution_count": null,
   "metadata": {},
   "outputs": [],
   "source": []
  },
  {
   "cell_type": "markdown",
   "metadata": {},
   "source": [
    "### Exercício 07\n",
    "Elabora um programa para calcular a raiz quadrada de um número,\n",
    "utilizando a biblioteca math."
   ]
  },
  {
   "cell_type": "code",
   "execution_count": null,
   "metadata": {},
   "outputs": [],
   "source": []
  },
  {
   "cell_type": "markdown",
   "metadata": {},
   "source": [
    "### Exercício 08\n",
    "Crie um programa que seja capaz de calcular o valor absoluto de um\n",
    "número."
   ]
  },
  {
   "cell_type": "code",
   "execution_count": null,
   "metadata": {},
   "outputs": [],
   "source": []
  },
  {
   "cell_type": "markdown",
   "metadata": {},
   "source": [
    "### Exercício 16\n",
    "\n",
    "Faça um Programa que peça 2 números inteiros e um número real.\n",
    "Calcule e mostre:\n",
    "\n",
    "a) o produto do dobro do primeiro com metade do segundo.\n",
    "\n",
    "b) a soma do triplo do primeiro com o terceiro.\n",
    "\n",
    "c) o terceiro elevado ao cubo."
   ]
  },
  {
   "cell_type": "code",
   "execution_count": 11,
   "metadata": {},
   "outputs": [
    {
     "name": "stdout",
     "output_type": "stream",
     "text": [
      "Alternativa A: 100.0\n",
      "Alternativa B: 40.0\n"
     ]
    }
   ],
   "source": [
    "# Recebendo valores e convertendo\n",
    "num1 = int(input('Digite o primeiro valor.'))\n",
    "num2 = int(input('Digite o segundo valor.'))\n",
    "num3 = float(input('Digite o terceiro valor.'))\n",
    "\n",
    "# Calculando o produto do dobro do primeiro com a metade do segundo\n",
    "questaoA = (num1 * 2) * (num2 / 2)\n",
    "print('Alternativa A:', questaoA)\n",
    "\n",
    "# A soma do triplo do primeiro com o terceiro.\n",
    "questaoB = num1 * 3 + num3\n",
    "print('Alternativa B:', questaoB)\n",
    "\n",
    "# O terceiro elevado ao cubo.\n",
    "questaoC = num3 ** 3\n",
    "print('Alternativa C:', questaoC)"
   ]
  },
  {
   "cell_type": "markdown",
   "metadata": {},
   "source": [
    "### Exercício 17\n",
    "João Papo-de-Pescador, homem de bem, comprou um microcomputador\n",
    "para controlar o rendimento diário de seu trabalho. Toda vez que ele traz um peso de\n",
    "peixes maior que o estabelecido pelo regulamento de pesca do estado de São Paulo\n",
    "(50 quilos) deve pagar uma multa de R$ 4,00 por quilo excedente. João precisa que\n",
    "você faça um programa que leia a variável peso (peso de peixes) e calcule o excesso.\n",
    "\n",
    "Gravar na variável excesso a quantidade de quilos além do limite e na variável multa o\n",
    "valor da multa que João deverá pagar. Imprima os dados do programa com as\n",
    "mensagens adequadas."
   ]
  },
  {
   "cell_type": "code",
   "execution_count": 14,
   "metadata": {},
   "outputs": [
    {
     "name": "stdout",
     "output_type": "stream",
     "text": [
      "O peso total é 20.0 kg, o excedente é de -30.0 kg, portanto a multa é R$-120.0.\n"
     ]
    }
   ],
   "source": [
    "# Inserindo o valor do peso\n",
    "peso = float(input('Digite o peso total'))\n",
    "\n",
    "# Calculando o excesso\n",
    "limite = 50\n",
    "excesso = peso - limite\n",
    "\n",
    "# Calcular a multa\n",
    "valorPorKG = 4\n",
    "multa = excesso * valorPorKG\n",
    "\n",
    "print(f'O peso total é {peso} kg, o excedente é de {excesso} kg, portanto a multa é R${multa}.')"
   ]
  },
  {
   "cell_type": "markdown",
   "metadata": {},
   "source": [
    "### Exercício 18\n",
    "Faça um Programa que pergunte quanto você ganha por hora e o número\n",
    "de horas trabalhadas no mês. Calcule e mostre o total do seu salário no referido mês,\n",
    "sabendo-se que são descontados 11% para o Imposto de Renda, 8% para o INSS e 5%\n",
    "para o sindicato, faça um programa que nos dê:\n",
    "\n",
    "a) salário bruto.\n",
    "\n",
    "b) quanto pagou ao INSS.\n",
    "\n",
    "c) quanto pagou ao sindicato.\n",
    "\n",
    "d) o salário líquido.\n",
    "\n",
    "e) calcule os descontos e o salário líquido, conforme a tabela abaixo:"
   ]
  },
  {
   "cell_type": "code",
   "execution_count": null,
   "metadata": {},
   "outputs": [],
   "source": [
    "# Inserindo o Valor por Hora e Horas Trabalhadas\n",
    "\n",
    "valorHora = float(input('Informe o quanto você recebe por hora.'))\n",
    "horasTrabalhadas = int(input('Quantas horas você trabalhou neste mês?'))\n",
    "\n",
    "# Calculando o salário bruto\n",
    "salarioBruto = valorHora * horasTrabalhadas\n",
    "\n",
    "# Alíquotas de desconto\n",
    "\n",
    "per_ir = 0.11\n",
    "per_inss = 0.08\n",
    "per_sindicato = 0.05\n",
    "\n",
    "# Calcular o valor dos descontos\n",
    "\n",
    "valor_ir = salarioBruto * per_ir\n",
    "valor_inss = salarioBruto * per_inss\n",
    "valor_sindicato = salarioBruto * per_sindicato\n",
    "\n",
    "# Calcular o salário líquido\n",
    "salario_liquido = salarioBruto - valor_inss - valor_ir - valor_sindicato\n",
    "\n",
    "# Exibir resultados\n",
    "\n",
    "print(f'+ Salário Bruto: R$ {salarioBruto}')\n",
    "print(f'- IR (11%): R$ {valor_ir}')\n",
    "print(f'- INSS (8%): R$ {valor_inss}')\n",
    "print(f'Sindicato (5%): R$ {valor_sindicato}')\n",
    "print(f'= Salário Líquido: R$ {salario_liquido}')\n"
   ]
  },
  {
   "cell_type": "markdown",
   "metadata": {},
   "source": [
    "### Exercício 19\n",
    "Faça um programa para uma loja de tintas. O programa deverá pedir o\n",
    "tamanho em metros quadrados da área a ser pintada. Considere que a cobertura da\n",
    "tinta é de 1 litro para cada 3 metros quadrados e que a tinta é vendida em latas de 18\n",
    "litros, que custam R$ 80,00. Informe ao usuário a quantidades de latas de tinta a serem\n",
    "compradas e o preço total."
   ]
  },
  {
   "cell_type": "code",
   "execution_count": 25,
   "metadata": {},
   "outputs": [
    {
     "name": "stdout",
     "output_type": "stream",
     "text": [
      "Para pintar uma área de 15.0 m².\n",
      "Serão necessárias 1, e o custo total será de R$ 80.\n"
     ]
    }
   ],
   "source": [
    "# Importar a biblioteca math para utilizar a função ceil\n",
    "import math \n",
    "\n",
    "# Informando as medidas\n",
    "largura = float(input('Informe a largura total'))\n",
    "altura = float(input('Informe a altura total'))\n",
    "\n",
    "area = largura * altura\n",
    "\n",
    "# Calculando a quantidade de latas\n",
    "litrosLata = 18\n",
    "areaPintadaLata = litrosLata * 3\n",
    "\n",
    "## O ideal era aplicar uma estrutura condicional para verificar\n",
    "## se qtde de latas é menor do que 1, MASSS vai ficar assim\n",
    "##qtdeLatas = round(area / areaPintadaLata,2)\n",
    "\n",
    "qtdeLatas = math.ceil(area / areaPintadaLata) # Esta função arredonda valores para cima\n",
    "\n",
    "valorLata = 80\n",
    "custoTotal = round(qtdeLatas * valorLata,2)\n",
    "\n",
    "print(f'Para pintar uma área de {area} m².')\n",
    "print(f'Serão necessárias {qtdeLatas}, e o custo total será de R$ {custoTotal}.')"
   ]
  },
  {
   "cell_type": "code",
   "execution_count": 22,
   "metadata": {},
   "outputs": [
    {
     "data": {
      "text/plain": [
       "1"
      ]
     },
     "execution_count": 22,
     "metadata": {},
     "output_type": "execute_result"
    }
   ],
   "source": [
    "import math\n",
    "math.ceil(0.2)\n",
    "\n",
    "math."
   ]
  }
 ],
 "metadata": {
  "kernelspec": {
   "display_name": "Python 3",
   "language": "python",
   "name": "python3"
  },
  "language_info": {
   "codemirror_mode": {
    "name": "ipython",
    "version": 3
   },
   "file_extension": ".py",
   "mimetype": "text/x-python",
   "name": "python",
   "nbconvert_exporter": "python",
   "pygments_lexer": "ipython3",
   "version": "3.11.0"
  }
 },
 "nbformat": 4,
 "nbformat_minor": 2
}

{
 "cells": [
  {
   "cell_type": "markdown",
   "metadata": {},
   "source": [
    "#### Criando uma mensagem no console\n",
    "\n",
    "Markdown é um tetxo que não reconhecido pela linguagem"
   ]
  },
  {
   "cell_type": "code",
   "execution_count": 3,
   "metadata": {},
   "outputs": [
    {
     "name": "stdout",
     "output_type": "stream",
     "text": [
      "Hello, baby!\n"
     ]
    }
   ],
   "source": [
    "print('Hello, baby!')"
   ]
  },
  {
   "cell_type": "markdown",
   "metadata": {},
   "source": [
    "#### Exercício 01\n",
    "Crie um programa para receber dois valores e em seguida, exiba o valor\n",
    "da soma."
   ]
  },
  {
   "cell_type": "code",
   "execution_count": 2,
   "metadata": {},
   "outputs": [
    {
     "name": "stdout",
     "output_type": "stream",
     "text": [
      "31\n"
     ]
    }
   ],
   "source": [
    "# Criando as variáveis e atribuindo valores a elas\n",
    "num1 = 20\n",
    "num2 = 5\n",
    "num3 = 6\n",
    "\n",
    "# Somando os valores das três variáveis criadas\n",
    "soma = num1 + num2 + num3\n",
    "\n",
    "print(soma)"
   ]
  },
  {
   "cell_type": "markdown",
   "metadata": {},
   "source": [
    "### Exercício 10\n",
    "Faça um Programa que converta metros para centímetros."
   ]
  },
  {
   "cell_type": "code",
   "execution_count": 9,
   "metadata": {},
   "outputs": [
    {
     "name": "stdout",
     "output_type": "stream",
     "text": [
      "200.0\n"
     ]
    }
   ],
   "source": [
    "metros = input('Digite um valor em metros.')\n",
    "metros = float(metros)\n",
    "centimetros = metros * 100\n",
    "print(centimetros)"
   ]
  },
  {
   "cell_type": "markdown",
   "metadata": {},
   "source": [
    "### Exercício 11\n",
    "Faça um Programa que peça o raio de um círculo, calcule e mostre sua\n",
    "área."
   ]
  },
  {
   "cell_type": "code",
   "execution_count": 17,
   "metadata": {},
   "outputs": [
    {
     "name": "stdout",
     "output_type": "stream",
     "text": [
      "O círculo com raio de 20.0 mm, tem uma área de 1256.6370614359173 mm²\n"
     ]
    }
   ],
   "source": [
    "# Carregar a biblioteca para utilizar o valor do PI completo\n",
    "import numpy as np\n",
    "\n",
    "raio = input('Informe o raio do círculo.')\n",
    "raio = float(raio)\n",
    "\n",
    "pi = np.pi\n",
    "\n",
    "areaCirculo = pi* raio ** 2\n",
    "print(f'O círculo com raio de {raio} mm, tem uma área de {areaCirculo} mm²')"
   ]
  },
  {
   "cell_type": "code",
   "execution_count": 16,
   "metadata": {},
   "outputs": [
    {
     "data": {
      "text/plain": [
       "3.141592653589793"
      ]
     },
     "execution_count": 16,
     "metadata": {},
     "output_type": "execute_result"
    }
   ],
   "source": []
  }
 ],
 "metadata": {
  "kernelspec": {
   "display_name": "Python 3",
   "language": "python",
   "name": "python3"
  },
  "language_info": {
   "codemirror_mode": {
    "name": "ipython",
    "version": 3
   },
   "file_extension": ".py",
   "mimetype": "text/x-python",
   "name": "python",
   "nbconvert_exporter": "python",
   "pygments_lexer": "ipython3",
   "version": "3.11.0"
  }
 },
 "nbformat": 4,
 "nbformat_minor": 2
}
